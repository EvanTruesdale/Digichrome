{
 "cells": [
  {
   "cell_type": "code",
   "execution_count": 1,
   "id": "8c0d5898",
   "metadata": {},
   "outputs": [],
   "source": [
    "#Hi gang! I make vines. Lol lets go.\n",
    "\n",
    "import numpy as np\n",
    "from scipy.spatial import Voronoi, voronoi_plot_2d\n",
    "import matplotlib.pyplot as plt\n",
    "from matplotlib.patches import Polygon\n",
    "from random import randint\n",
    "import random"
   ]
  },
  {
   "cell_type": "code",
   "execution_count": 13,
   "id": "0bf48eb5",
   "metadata": {},
   "outputs": [
    {
     "data": {
      "text/plain": [
       "(0.3628496492680772, 2.135707186659978, 3.696875, 21.365625)"
      ]
     },
     "execution_count": 13,
     "metadata": {},
     "output_type": "execute_result"
    },
    {
     "data": {
      "image/png": "[encoded data removed]",
      "text/plain": [
       "<Figure size 432x288 with 1 Axes>"
      ]
     },
     "metadata": {
      "needs_background": "light"
     },
     "output_type": "display_data"
    }
   ],
   "source": [
    "#Paramaters\n",
    "random.seed(271) #make deterministic\n",
    "top = 20\n",
    "bot = 5\n",
    "amp = 0.25\n",
    "width = 0.5\n",
    "omega = 1.89\n",
    "res = 0.2\n",
    "data = [3,1,2,3] #1 is left leaf, 2 is right, 3 is both\n",
    "interval = 1\n",
    "\n",
    "#Leaf param\n",
    "size = 0.5\n",
    "side1 = 0.25*np.array([1,0])*size\n",
    "side2 = 0.125*np.array([3,1])*size\n",
    "side3 = 0.5*np.array([1,2])*size\n",
    "side4 = 0.5*np.array([-2,-1])*size\n",
    "side5 = 0.125*np.array([-1,-3])*size\n",
    "\n",
    "#generate vine spine\n",
    "spine = []\n",
    "for i in np.linspace(bot,top,int(1 + (top-bot)/res)):\n",
    "    spine.append([amp*np.sin(i * omega)+1, i])\n",
    "\n",
    "#bottom\n",
    "verts = []\n",
    "x = spine[0][0]\n",
    "y = spine[0][1]\n",
    "verts.append([x - width, y])\n",
    "verts.append([x - width/2, y -width])\n",
    "verts.append([x, y-width])\n",
    "verts.append([x + width/2, y-width])\n",
    "verts.append([x + width, y])\n",
    "\n",
    "#Work up the right side, adding leaves as needed\n",
    "for i in spine:\n",
    "    x = i[0]\n",
    "    y = i[1]\n",
    "    if (i[1]%interval)< 0.5*res:\n",
    "        #Leaf time lets go\n",
    "        current = [x+width/2,y]\n",
    "        verts.append(current)\n",
    "        current = current + side1\n",
    "        verts.append(current)\n",
    "        current = current + side2\n",
    "        verts.append(current)\n",
    "        current = current + side3\n",
    "        verts.append(current)\n",
    "        current = current + side4\n",
    "        verts.append(current)\n",
    "        current = current + side5\n",
    "        verts.append(current)\n",
    "        verts.append( [x+width/2,y])\n",
    "    else:\n",
    "        verts.append( [x+width/2,y])\n",
    "        \n",
    "#top\n",
    "x = spine[-1][0]\n",
    "y = spine[-1][1]\n",
    "verts.append([x + width/2, y])\n",
    "verts.append([x + width/4, y+width])\n",
    "verts.append([x, y-width])\n",
    "verts.append([x - width/4, y+width])\n",
    "verts.append([x - width/2, y])\n",
    "\n",
    "#down\n",
    "for i in reversed(spine):\n",
    "    x = i[0]\n",
    "    y = i[1]\n",
    "    if (i[1]%interval)< 0.5*res:\n",
    "        #LEAF TIME\n",
    "        current = [x+width/2,y]\n",
    "        verts.append(current)\n",
    "        current = current - np.array([1,-1])*side1\n",
    "        verts.append(current)\n",
    "        current = current - np.array([1,-1])*side2\n",
    "        verts.append(current)\n",
    "        current = current - np.array([1,-1])*side3\n",
    "        verts.append(current)\n",
    "        current = current - np.array([1,-1])*side4\n",
    "        verts.append(current)\n",
    "        current = current - np.array([1,-1])*side5\n",
    "        verts.append(current)\n",
    "        verts.append( [x+width/2,y])\n",
    "    else:\n",
    "        verts.append( [x+width/2,y])\n",
    "\n",
    "polygon = verts\n",
    "plt.fill(*zip(*polygon), color = 'black')\n",
    "plt.axis('equal')"
   ]
  },
  {
   "cell_type": "code",
   "execution_count": null,
   "id": "7c10fbe5",
   "metadata": {},
   "outputs": [],
   "source": []
  }
 ],
 "metadata": {
  "kernelspec": {
   "display_name": "Python 3 (ipykernel)",
   "language": "python",
   "name": "python3"
  },
  "language_info": {
   "codemirror_mode": {
    "name": "ipython",
    "version": 3
   },
   "file_extension": ".py",
   "mimetype": "text/x-python",
   "name": "python",
   "nbconvert_exporter": "python",
   "pygments_lexer": "ipython3",
   "version": "3.8.10"
  }
 },
 "nbformat": 4,
 "nbformat_minor": 5
}
