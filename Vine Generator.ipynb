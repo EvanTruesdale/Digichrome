{
 "cells": [
  {
   "cell_type": "code",
   "execution_count": 1,
   "id": "8c0d5898",
   "metadata": {},
   "outputs": [],
   "source": [
    "#Hi gang! I make vines. Lol lets go.\n",
    "\n",
    "import numpy as np\n",
    "from scipy.spatial import Voronoi, voronoi_plot_2d\n",
    "import matplotlib.pyplot as plt\n",
    "from matplotlib.patches import Polygon\n",
    "from random import randint\n",
    "import random"
   ]
  },
  {
   "cell_type": "code",
   "execution_count": 20,
   "id": "0bf48eb5",
   "metadata": {},
   "outputs": [
    {
     "data": {
      "text/plain": [
       "(0.36569206994328973, 2.1429109765993872, 2.221875, 19.340625)"
      ]
     },
     "execution_count": 20,
     "metadata": {},
     "output_type": "execute_result"
    },
    {
     "data": {
      "image/png": "[encoded data removed]",
      "text/plain": [
       "<Figure size 432x288 with 1 Axes>"
      ]
     },
     "metadata": {
      "needs_background": "light"
     },
     "output_type": "display_data"
    }
   ],
   "source": [
    "#Paramaters\n",
    "random.seed(271) #make deterministic\n",
    "top = 18\n",
    "bot = 3\n",
    "amp = 0.25\n",
    "width = 0.5\n",
    "omega = 1.89\n",
    "res = 0.3\n",
    "data = [1,2,3] #1 is left leaf, 2 is right, 3 is both\n",
    "interval = 1\n",
    "\n",
    "#Leaf param\n",
    "size = 0.5\n",
    "side1 = 0.25*np.array([1,0])*size\n",
    "side2 = 0.125*np.array([3,1])*size\n",
    "side3 = 0.5*np.array([1,2])*size\n",
    "side4 = 0.5*np.array([-2,-1])*size\n",
    "side5 = 0.125*np.array([-1,-3])*size\n",
    "\n",
    "#generate vine spine\n",
    "spine = []\n",
    "for i in np.linspace(bot,top,int(1 + (top-bot)/res)):\n",
    "    spine.append([amp*np.sin(i * omega)+1, i])\n",
    "\n",
    "verts = []\n",
    "\n",
    "#Work up the right side, adding leaves as needed\n",
    "counter = 0\n",
    "for i in spine:\n",
    "    x = i[0]\n",
    "    y = i[1]\n",
    "    if len(data) <= counter:\n",
    "        counter = 0\n",
    "    if (i[1]%interval)< 0.5*res and (data[counter] == 3 or data[counter] == 2):\n",
    "        #Leaf time lets go\n",
    "        current = [x+width/2,y]\n",
    "        verts.append(current)\n",
    "        current = current + side1\n",
    "        verts.append(current)\n",
    "        current = current + side2\n",
    "        verts.append(current)\n",
    "        current = current + side3\n",
    "        verts.append(current)\n",
    "        current = current + side4\n",
    "        verts.append(current)\n",
    "        current = current + side5\n",
    "        verts.append(current)\n",
    "        verts.append( [x+width/2,y])\n",
    "        counter += 1\n",
    "    else:\n",
    "        verts.append( [x+width/2,y])\n",
    "        counter += 1\n",
    "\n",
    "#down\n",
    "counter = -1\n",
    "for i in reversed(spine):\n",
    "    x = i[0]\n",
    "    y = i[1]\n",
    "    if len(data) <= abs(counter):\n",
    "        counter = -1\n",
    "    if (i[1]%interval)< 0.5*res and (data[counter] == 3 or data[counter] == 1):\n",
    "        #LEAF TIME\n",
    "        current = [x+width/2,y]\n",
    "        verts.append(current)\n",
    "        current = current - np.array([1,-1])*side1\n",
    "        verts.append(current)\n",
    "        current = current - np.array([1,-1])*side2\n",
    "        verts.append(current)\n",
    "        current = current - np.array([1,-1])*side3\n",
    "        verts.append(current)\n",
    "        current = current - np.array([1,-1])*side4\n",
    "        verts.append(current)\n",
    "        current = current - np.array([1,-1])*side5\n",
    "        verts.append(current)\n",
    "        verts.append( [x+width/2,y])\n",
    "        counter -= 1\n",
    "    else:\n",
    "        verts.append( [x+width/2,y])\n",
    "        counter -= 1\n",
    "\n",
    "polygon = verts\n",
    "plt.fill(*zip(*polygon), color = 'black')\n",
    "plt.axis('equal')"
   ]
  },
  {
   "cell_type": "code",
   "execution_count": null,
   "id": "7c10fbe5",
   "metadata": {},
   "outputs": [],
   "source": []
  }
 ],
 "metadata": {
  "kernelspec": {
   "display_name": "Python 3 (ipykernel)",
   "language": "python",
   "name": "python3"
  },
  "language_info": {
   "codemirror_mode": {
    "name": "ipython",
    "version": 3
   },
   "file_extension": ".py",
   "mimetype": "text/x-python",
   "name": "python",
   "nbconvert_exporter": "python",
   "pygments_lexer": "ipython3",
   "version": "3.8.10"
  }
 },
 "nbformat": 4,
 "nbformat_minor": 5
}
