{
 "cells": [
  {
   "cell_type": "code",
   "execution_count": 1,
   "id": "8c0d5898",
   "metadata": {},
   "outputs": [],
   "source": [
    "#Hi gang! I make vines. Lol lets go.\n",
    "\n",
    "import numpy as np\n",
    "from scipy.spatial import Voronoi, voronoi_plot_2d\n",
    "import matplotlib.pyplot as plt\n",
    "from matplotlib.patches import Polygon\n",
    "from random import randint\n",
    "import random"
   ]
  },
  {
   "cell_type": "code",
   "execution_count": 74,
   "id": "f8b7e901",
   "metadata": {},
   "outputs": [],
   "source": [
    "def vine(top, bot, amp, width, omega, res, data, inval, rand):\n",
    "    #Paramaters\n",
    "    interval = inval*res\n",
    "    \n",
    "    random.seed(271) #make deterministic\n",
    "    \n",
    "    #Leaf param\n",
    "    size = 0.5\n",
    "    side1 = 0.25*np.array([1,0])*size\n",
    "    side2 = 0.125*np.array([3,1])*size\n",
    "    side3 = 0.5*np.array([1,2])*size\n",
    "    side4 = 0.5*np.array([-2,-1])*size\n",
    "    side5 = 0.125*np.array([-1,-3])*size\n",
    "\n",
    "    #generate vine spine\n",
    "    spine = []\n",
    "    for i in np.linspace(bot,top,int(1 + (top-bot)/res)):\n",
    "        spine.append([amp*np.sin(i * omega)+1, i])\n",
    "\n",
    "    verts = []\n",
    "\n",
    "    #Work up the right side, adding leaves as needed\n",
    "    counter = 0\n",
    "    for i in spine:\n",
    "        x = i[0]\n",
    "        y = i[1]\n",
    "        if len(data) <= counter:\n",
    "            counter = 0\n",
    "        if (i[1]%interval) == 0: \n",
    "            if (data[counter] == 3 or data[counter] == 2):\n",
    "                #Leaf time lets go\n",
    "                noise =  list([(random.random()-0.5)*rand, + (random.random()-0.5)*rand])\n",
    "                noise = np.array(noise)\n",
    "                current = [x+width/2, y] + noise\n",
    "                verts.append(current)\n",
    "                noise =  list([(random.random()-0.5)*rand, + (random.random()-0.5)*rand])\n",
    "                noise = np.array(noise)\n",
    "                current = current + side1 + noise\n",
    "                verts.append(current)\n",
    "                noise =  list([(random.random()-0.5)*rand, + (random.random()-0.5)*rand])\n",
    "                noise = np.array(noise)\n",
    "                current = current + side2 + noise\n",
    "                verts.append(current)\n",
    "                noise =  list([(random.random()-0.5)*rand, + (random.random()-0.5)*rand])\n",
    "                noise = np.array(noise)\n",
    "                current = current + side3 + noise\n",
    "                verts.append(current)\n",
    "                noise =  list([(random.random()-0.5)*rand, + (random.random()-0.5)*rand])\n",
    "                noise = np.array(noise)\n",
    "                current = current + side4 + noise\n",
    "                verts.append(current)\n",
    "                noise =  list([(random.random()-0.5)*rand, + (random.random()-0.5)*rand])\n",
    "                noise = np.array(noise)\n",
    "                current = current + side5 + noise\n",
    "                verts.append(current)\n",
    "                verts.append( [x+width/2,y])\n",
    "            counter += 1\n",
    "        else:\n",
    "            verts.append( [x+width/2,y])\n",
    "\n",
    "    #down\n",
    "    counter = len(data) - counter\n",
    "    data = list(reversed(data))\n",
    "    print(data)\n",
    "    for i in reversed(spine):\n",
    "        x = i[0]\n",
    "        y = i[1]\n",
    "        if len(data) <= counter:\n",
    "            counter = 0\n",
    "        if (i[1]%interval)< 0.5*res:\n",
    "            if (data[counter] == 3 or data[counter] == 1):\n",
    "                #LEAF TIME\n",
    "                noise =  list([(random.random()-0.5)*rand, + (random.random()-0.5)*rand])\n",
    "                noise = np.array(noise)\n",
    "                current = [x+width/2,y] + noise\n",
    "                verts.append(current)\n",
    "                noise =  list([(random.random()-0.5)*rand, + (random.random()-0.5)*rand])\n",
    "                noise = np.array(noise)\n",
    "                current = current - np.array([1,-1])*side1 + noise\n",
    "                verts.append(current)\n",
    "                noise =  list([(random.random()-0.5)*rand, + (random.random()-0.5)*rand])\n",
    "                noise = np.array(noise)\n",
    "                current = current - np.array([1,-1])*side2 + noise\n",
    "                verts.append(current)\n",
    "                noise =  list([(random.random()-0.5)*rand, + (random.random()-0.5)*rand])\n",
    "                noise = np.array(noise)\n",
    "                current = current - np.array([1,-1])*side3 + noise\n",
    "                verts.append(current)\n",
    "                noise =  list([(random.random()-0.5)*rand, + (random.random()-0.5)*rand])\n",
    "                noise = np.array(noise)\n",
    "                current = current - np.array([1,-1])*side4 + noise\n",
    "                verts.append(current)\n",
    "                noise =  list([(random.random()-0.5)*rand, + (random.random()-0.5)*rand])\n",
    "                noise = np.array(noise)\n",
    "                current = current - np.array([1,-1])*side5 + noise\n",
    "                verts.append(current)\n",
    "                verts.append( [x+width/2,y])\n",
    "            counter += 1\n",
    "        else:\n",
    "            verts.append( [x+width/2,y])\n",
    "\n",
    "    return verts"
   ]
  },
  {
   "cell_type": "code",
   "execution_count": 75,
   "id": "0bf48eb5",
   "metadata": {},
   "outputs": [
    {
     "name": "stdout",
     "output_type": "stream",
     "text": [
      "[3, 2, 1]\n"
     ]
    },
    {
     "data": {
      "text/plain": [
       "(0.38189064994628513,\n",
       " 2.2029928231178455,\n",
       " 1.9806943971816517,\n",
       " 23.657192058116923)"
      ]
     },
     "execution_count": 75,
     "metadata": {},
     "output_type": "execute_result"
    },
    {
     "data": {
      "image/png": "[encoded data removed]",
      "text/plain": [
       "<Figure size 432x288 with 1 Axes>"
      ]
     },
     "metadata": {
      "needs_background": "light"
     },
     "output_type": "display_data"
    }
   ],
   "source": [
    "polygon = vine(22,3,0.25,0.5,1.89,0.5,[1,2,3],2, .125)\n",
    "plt.fill(*zip(*polygon), color = 'black')\n",
    "plt.axis('equal')"
   ]
  },
  {
   "cell_type": "code",
   "execution_count": null,
   "id": "7c10fbe5",
   "metadata": {},
   "outputs": [],
   "source": []
  },
  {
   "cell_type": "code",
   "execution_count": null,
   "id": "65b0f018",
   "metadata": {},
   "outputs": [],
   "source": []
  }
 ],
 "metadata": {
  "kernelspec": {
   "display_name": "Python 3 (ipykernel)",
   "language": "python",
   "name": "python3"
  },
  "language_info": {
   "codemirror_mode": {
    "name": "ipython",
    "version": 3
   },
   "file_extension": ".py",
   "mimetype": "text/x-python",
   "name": "python",
   "nbconvert_exporter": "python",
   "pygments_lexer": "ipython3",
   "version": "3.8.10"
  }
 },
 "nbformat": 4,
 "nbformat_minor": 5
}
