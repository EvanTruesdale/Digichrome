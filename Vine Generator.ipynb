{
 "cells": [
  {
   "cell_type": "code",
   "execution_count": 1,
   "id": "8c0d5898",
   "metadata": {},
   "outputs": [],
   "source": [
    "#Hi gang! I make vines. Lol lets go.\n",
    "\n",
    "import numpy as np\n",
    "from scipy.spatial import Voronoi, voronoi_plot_2d\n",
    "import matplotlib.pyplot as plt\n",
    "from matplotlib.patches import Polygon\n",
    "from random import randint\n",
    "import random"
   ]
  },
  {
   "cell_type": "code",
   "execution_count": 2,
   "id": "f8b7e901",
   "metadata": {},
   "outputs": [],
   "source": [
    "def vine(top, bot, amp, width, omega, res, size, data, inval, rand):\n",
    "    \n",
    "    '''vine takes in a ton of floats and outputs a list of verticies that define the vine as a polygon.\n",
    "    top is a float for the max height of the center vine (mm) (some leaves may be taller!)\n",
    "    bot is a float for the minimum of the vine, no leaves will be lower (mm)\n",
    "    amp is the amplitude of the sine wave that definse the vine (mm)\n",
    "    width is how thick the vine is (mm)\n",
    "    omega is how fast the vine oscilates (rad/mm)\n",
    "    res is the size of vertical steps (mm)\n",
    "    size is the size of leaves\n",
    "    data is a list of 1, 2, and 3's that define the pattern of leaves (1 is left leaf, 2 is right leaf, 3 is both)\n",
    "    inval is the the number of steps (whose size is defined by res) between leaves\n",
    "    rand is the coeficent of randomness added to the leaf co-ordinates, if it is 1 they can change by plus or minus 0.5mm\n",
    "    '''\n",
    "    \n",
    "    #Paramaters\n",
    "    interval = inval*res\n",
    "    \n",
    "    random.seed(271) #make deterministic\n",
    "    \n",
    "    #Leaf param\n",
    "    side1 = 0.25*np.array([1,0])*size\n",
    "    side2 = 0.125*np.array([3,1])*size\n",
    "    side3 = 0.5*np.array([1,2])*size\n",
    "    side4 = 0.25*np.array([-2,-1])*size\n",
    "    side5 = 0.125*np.array([-1,-3])*size\n",
    "\n",
    "    #generate vine spine\n",
    "    spine = []\n",
    "    for i in np.linspace(bot,top,int(1 + (top-bot)/res)):\n",
    "        spine.append([amp/2*np.sin(i * omega), i])\n",
    "\n",
    "    verts = []\n",
    "\n",
    "    #Work up the right side, adding leaves as needed\n",
    "    counter = 0\n",
    "    for i in spine:\n",
    "        x = i[0]\n",
    "        y = i[1]\n",
    "        if len(data) <= counter:\n",
    "            counter = 0\n",
    "        if (i[1]%interval) == 0: \n",
    "            if (data[counter] == 3 or data[counter] == 2):\n",
    "                #Leaf time lets go\n",
    "                noise =  list([(random.random()-0.5)*rand, + (random.random()-0.5)*rand])\n",
    "                noise = np.array(noise)\n",
    "                current = [x+width/2, y] + noise\n",
    "                verts.append(current)\n",
    "                noise =  list([(random.random()-0.5)*rand, + (random.random()-0.5)*rand])\n",
    "                noise = np.array(noise)\n",
    "                current = current + side1 + noise\n",
    "                verts.append(current)\n",
    "                noise =  list([(random.random()-0.5)*rand, + (random.random()-0.5)*rand])\n",
    "                noise = np.array(noise)\n",
    "                current = current + side2 + noise\n",
    "                verts.append(current)\n",
    "                noise =  list([(random.random()-0.5)*rand, + (random.random()-0.5)*rand])\n",
    "                noise = np.array(noise)\n",
    "                current = current + side3 + noise\n",
    "                verts.append(current)\n",
    "                noise =  list([(random.random()-0.5)*rand, + (random.random()-0.5)*rand])\n",
    "                noise = np.array(noise)\n",
    "                current = current + side4 + noise\n",
    "                verts.append(current)\n",
    "                noise =  list([(random.random()-0.5)*rand, + (random.random()-0.5)*rand])\n",
    "                noise = np.array(noise)\n",
    "                current = current + side5 + noise\n",
    "                verts.append(current)\n",
    "                verts.append( [x+width/2,y])\n",
    "            counter += 1\n",
    "        else:\n",
    "            verts.append( [x+width/2,y])\n",
    "\n",
    "    #down\n",
    "    counter = len(data) - counter\n",
    "    data = list(reversed(data))\n",
    "    for i in reversed(spine):\n",
    "        x = i[0]\n",
    "        y = i[1]\n",
    "        if len(data) <= counter:\n",
    "            counter = 0\n",
    "        if (i[1]%interval)< 0.5*res:\n",
    "            if (data[counter] == 3 or data[counter] == 1):\n",
    "                #LEAF TIME\n",
    "                noise =  list([(random.random()-0.5)*rand, + (random.random()-0.5)*rand])\n",
    "                noise = np.array(noise)\n",
    "                current = [x+width/2,y] + noise\n",
    "                verts.append(current)\n",
    "                noise =  list([(random.random()-0.5)*rand, + (random.random()-0.5)*rand])\n",
    "                noise = np.array(noise)\n",
    "                current = current - np.array([1,-1])*side1 + noise\n",
    "                verts.append(current)\n",
    "                noise =  list([(random.random()-0.5)*rand, + (random.random()-0.5)*rand])\n",
    "                noise = np.array(noise)\n",
    "                current = current - np.array([1,-1])*side2 + noise\n",
    "                verts.append(current)\n",
    "                noise =  list([(random.random()-0.5)*rand, + (random.random()-0.5)*rand])\n",
    "                noise = np.array(noise)\n",
    "                current = current - np.array([1,-1])*side3 + noise\n",
    "                verts.append(current)\n",
    "                noise =  list([(random.random()-0.5)*rand, + (random.random()-0.5)*rand])\n",
    "                noise = np.array(noise)\n",
    "                current = current - np.array([1,-1])*side4 + noise\n",
    "                verts.append(current)\n",
    "                noise =  list([(random.random()-0.5)*rand, + (random.random()-0.5)*rand])\n",
    "                noise = np.array(noise)\n",
    "                current = current - np.array([1,-1])*side5 + noise\n",
    "                verts.append(current)\n",
    "                verts.append( [x+width/2,y])\n",
    "            counter += 1\n",
    "        else:\n",
    "            verts.append( [x+width/2,y])\n",
    "\n",
    "    return verts"
   ]
  },
  {
   "cell_type": "code",
   "execution_count": 4,
   "id": "0bf48eb5",
   "metadata": {},
   "outputs": [
    {
     "name": "stdout",
     "output_type": "stream",
     "text": [
      "Help on function vine in module __main__:\n",
      "\n",
      "vine(top, bot, amp, width, omega, res, size, data, inval, rand)\n",
      "    vine takes in a ton of floats and outputs a list of verticies that define the vine as a polygon.\n",
      "    top is a float for the max height of the center vine (mm) (some leaves may be taller!)\n",
      "    bot is a float for the minimum of the vine, no leaves will be lower (mm)\n",
      "    amp is the amplitude of the sine wave that definse the vine (mm)\n",
      "    width is how thick the vine is (mm)\n",
      "    omega is how fast the vine oscilates (rad/mm)\n",
      "    res is the size of vertical steps (mm)\n",
      "    size is the size of leaves\n",
      "    data is a list of 1, 2, and 3's that define the pattern of leaves (1 is left leaf, 2 is right leaf, 3 is both)\n",
      "    inval is the the number of steps (whose size is defined by res) between leaves\n",
      "    rand is the coeficent of randomness added to the leaf co-ordinates, if it is 1 they can change by plus or minus 0.5mm\n",
      "\n"
     ]
    },
    {
     "data": {
      "text/plain": [
       "(-0.3332284532271772,\n",
       " 0.8227034545944879,\n",
       " 0.991718532901074,\n",
       " 23.173910809077444)"
      ]
     },
     "execution_count": 4,
     "metadata": {},
     "output_type": "execute_result"
    },
    {
     "data": {
      "image/png": "[encoded data removed]",
      "text/plain": [
       "<Figure size 432x288 with 1 Axes>"
      ]
     },
     "metadata": {
      "needs_background": "light"
     },
     "output_type": "display_data"
    }
   ],
   "source": [
    "help(vine)\n",
    "polygon = vine(22,2,0.25,0.5,3.89,0.25,0.35,[1,1,2,3],3, .025)\n",
    "plt.fill(*zip(*polygon), color = 'black')\n",
    "plt.axis('equal')"
   ]
  },
  {
   "cell_type": "code",
   "execution_count": null,
   "id": "7c10fbe5",
   "metadata": {},
   "outputs": [],
   "source": []
  },
  {
   "cell_type": "code",
   "execution_count": null,
   "id": "65b0f018",
   "metadata": {},
   "outputs": [],
   "source": []
  }
 ],
 "metadata": {
  "kernelspec": {
   "display_name": "Python 3 (ipykernel)",
   "language": "python",
   "name": "python3"
  },
  "language_info": {
   "codemirror_mode": {
    "name": "ipython",
    "version": 3
   },
   "file_extension": ".py",
   "mimetype": "text/x-python",
   "name": "python",
   "nbconvert_exporter": "python",
   "pygments_lexer": "ipython3",
   "version": "3.8.10"
  }
 },
 "nbformat": 4,
 "nbformat_minor": 5
}
