{
 "cells": [
  {
   "cell_type": "code",
   "execution_count": 28,
   "id": "6471f1c5",
   "metadata": {},
   "outputs": [],
   "source": [
    "import cv2\n",
    "import numpy as np\n",
    "\n",
    "import numpy as np\n",
    "import matplotlib.pyplot as plt\n",
    "\n",
    "from skimage.color import rgb2gray\n",
    "from skimage.transform import warp\n",
    "from skimage.registration import optical_flow_tvl1, optical_flow_ilk\n",
    "from skimage.io import imread\n",
    "from skimage.transform import rotate, resize\n",
    "\n",
    "#Code from https://learnopencv.com/image-alignment-feature-based-using-opencv-c-python/\n",
    "\n",
    "MAX_FEATURES = 2000\n",
    "GOOD_MATCH_PERCENT = 0.15\n",
    "\n",
    "def alignImages(im1, im2):\n",
    "\n",
    "    # Convert images to grayscale\n",
    "    im1Gray = im1\n",
    "    im2Gray = cv2.cvtColor(im2, cv2.COLOR_BGR2GRAY)\n",
    "\n",
    "    # Detect ORB features and compute descriptors.\n",
    "    orb = cv2.ORB_create(MAX_FEATURES)\n",
    "    keypoints1, descriptors1 = orb.detectAndCompute(im1Gray, None)\n",
    "    keypoints2, descriptors2 = orb.detectAndCompute(im2Gray, None)\n",
    "\n",
    "    # Match features.\n",
    "    matcher = cv2.DescriptorMatcher_create(cv2.DESCRIPTOR_MATCHER_BRUTEFORCE_HAMMING)\n",
    "    matches = list(matcher.match(descriptors1, descriptors2, None))\n",
    "\n",
    "    # Sort matches by score\n",
    "    matches.sort(key=lambda x: x.distance, reverse=False)\n",
    "\n",
    "    # Remove not so good matches\n",
    "    numGoodMatches = int(len(matches) * GOOD_MATCH_PERCENT)\n",
    "    matches = matches[:numGoodMatches]\n",
    "\n",
    "    # Draw top matches\n",
    "    imMatches = cv2.drawMatches(im1, keypoints1, im2, keypoints2, matches, None)\n",
    "    cv2.imwrite(\"matches.jpg\", imMatches)\n",
    "\n",
    "    # Extract location of good matches\n",
    "    points1 = np.zeros((len(matches), 2), dtype=np.float32)\n",
    "    points2 = np.zeros((len(matches), 2), dtype=np.float32)\n",
    "\n",
    "    for i, match in enumerate(matches):\n",
    "        points1[i, :] = keypoints1[match.queryIdx].pt\n",
    "        points2[i, :] = keypoints2[match.trainIdx].pt\n",
    "\n",
    "    # Find homography\n",
    "    h, mask = cv2.findHomography(points1, points2, cv2.RANSAC)\n",
    "\n",
    "    # Use homography\n",
    "    height, width, channels = im2.shape\n",
    "    im1Reg = cv2.warpPerspective(im1, h, (width, height))\n",
    "    return im1Reg, im2, h"
   ]
  },
  {
   "cell_type": "code",
   "execution_count": 29,
   "id": "00927d79",
   "metadata": {},
   "outputs": [
    {
     "name": "stdout",
     "output_type": "stream",
     "text": [
      "Aligning images ...\n"
     ]
    }
   ],
   "source": [
    "# Open the image files.\n",
    "imReference = cv2.imread(\"Filters-Round-1/RGB_0.5.tif\") # Image to be aligned.\n",
    "im = cv2.imread(\"Fruit-Bowl/Rhine_2_RGB_0.5.tif\") # Reference image.\n",
    "im = cv2.cvtColor(im, cv2.COLOR_BGR2GRAY)\n",
    "\n",
    "\n",
    "print(\"Aligning images ...\")\n",
    "# Registered image will be resotred in imReg.\n",
    "# The estimated homography will be stored in h.\n",
    "imReg, imFilt, h = alignImages(im, imReference)\n",
    "\n"
   ]
  },
  {
   "cell_type": "code",
   "execution_count": 107,
   "id": "f4f3a1cf",
   "metadata": {},
   "outputs": [
    {
     "name": "stdout",
     "output_type": "stream",
     "text": [
      "Running Levi's Superpositioning Code\n"
     ]
    },
    {
     "ename": "error",
     "evalue": "OpenCV(4.5.5) /io/opencv/modules/core/src/arithm.cpp:672: error: (-5:Bad argument) When the input arrays in add/subtract/multiply/divide functions have different types, the output array type must be explicitly specified in function 'arithm_op'\n",
     "output_type": "error",
     "traceback": [
      "\u001b[0;31m---------------------------------------------------------------------------\u001b[0m",
      "\u001b[0;31merror\u001b[0m                                     Traceback (most recent call last)",
      "Input \u001b[0;32mIn [107]\u001b[0m, in \u001b[0;36m<cell line: 9>\u001b[0;34m()\u001b[0m\n\u001b[1;32m      6\u001b[0m imReg \u001b[38;5;241m=\u001b[39m imReg \u001b[38;5;241m/\u001b[39m \u001b[38;5;241m255\u001b[39m\n\u001b[1;32m      8\u001b[0m imColor_Red \u001b[38;5;241m=\u001b[39m imReg \u001b[38;5;241m*\u001b[39m imFilt_Red\n\u001b[0;32m----> 9\u001b[0m imColor_Green \u001b[38;5;241m=\u001b[39m \u001b[43mcv2\u001b[49m\u001b[38;5;241;43m.\u001b[39;49m\u001b[43mmultiply\u001b[49m\u001b[43m(\u001b[49m\u001b[43mimReg\u001b[49m\u001b[43m,\u001b[49m\u001b[43m \u001b[49m\u001b[43mimFilt_Green\u001b[49m\u001b[43m)\u001b[49m\n\u001b[1;32m     10\u001b[0m imColor_Blue \u001b[38;5;241m=\u001b[39m imReg \u001b[38;5;241m*\u001b[39m imFilt_Blue\n",
      "\u001b[0;31merror\u001b[0m: OpenCV(4.5.5) /io/opencv/modules/core/src/arithm.cpp:672: error: (-5:Bad argument) When the input arrays in add/subtract/multiply/divide functions have different types, the output array type must be explicitly specified in function 'arithm_op'\n"
     ]
    }
   ],
   "source": [
    "#Process imReg and imFilt to make imColor\n",
    "print(\"Running Levi's Superpositioning Code\")\n",
    "imFilt_Red = abs(imFilt[:,:,0])\n",
    "imFilt_Green = abs(imFilt[:,:,1])\n",
    "imFilt_Blue = abs(imFilt[:,:,2])\n",
    "\n",
    "imColor_Red = imReg * imFilt_Red\n",
    "imColor_Green = cv2.multiply(imReg, imFilt_Green)\n",
    "imColor_Blue = imReg * imFilt_Blue"
   ]
  },
  {
   "cell_type": "code",
   "execution_count": 106,
   "id": "bfe063e9",
   "metadata": {},
   "outputs": [
    {
     "name": "stdout",
     "output_type": "stream",
     "text": [
      "[[255 255 255 ... 255 255 255]\n",
      " [255 255 255 ... 255 255 255]\n",
      " [255 255 255 ... 255 255 255]\n",
      " ...\n",
      " [  0   0   0 ... 255 255 255]\n",
      " [  0   0   0 ... 255 255 255]\n",
      " [  0   0   0 ... 255 255 255]]\n",
      "Saving aligned image :  aligned.jpg\n",
      "Estimated homography : \n",
      " [[ 9.99160201e-01  2.17807879e-02 -1.51452209e+02]\n",
      " [-2.08879106e-02  1.00150772e+00 -1.59567046e+01]\n",
      " [-1.53673809e-07  2.24598572e-07  1.00000000e+00]]\n"
     ]
    },
    {
     "data": {
      "image/png": "[encoded data removed]",
      "text/plain": [
       "<Figure size 432x288 with 2 Axes>"
      ]
     },
     "metadata": {
      "needs_background": "light"
     },
     "output_type": "display_data"
    }
   ],
   "source": [
    "imColor = imRegUnNoise * imFilt\n",
    "plt.imshow(imColor_Green, cmap=\"gray\")\n",
    "plt.colorbar()\n",
    "print(imColor_Green)\n",
    "# Write aligned image to disk.\n",
    "outFilename = \"aligned.jpg\"\n",
    "print(\"Saving aligned image : \", outFilename);\n",
    "cv2.imwrite(outFilename, imColor_Green)\n",
    "\n",
    "# Print estimated homography\n",
    "print(\"Estimated homography : \\n\",  h)"
   ]
  },
  {
   "cell_type": "code",
   "execution_count": null,
   "id": "09c319af",
   "metadata": {},
   "outputs": [],
   "source": []
  }
 ],
 "metadata": {
  "kernelspec": {
   "display_name": "Python 3 (ipykernel)",
   "language": "python",
   "name": "python3"
  },
  "language_info": {
   "codemirror_mode": {
    "name": "ipython",
    "version": 3
   },
   "file_extension": ".py",
   "mimetype": "text/x-python",
   "name": "python",
   "nbconvert_exporter": "python",
   "pygments_lexer": "ipython3",
   "version": "3.8.10"
  }
 },
 "nbformat": 4,
 "nbformat_minor": 5
}
