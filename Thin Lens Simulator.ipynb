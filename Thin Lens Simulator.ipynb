{
 "cells": [
  {
   "cell_type": "code",
   "execution_count": 65,
   "id": "807aecd0",
   "metadata": {},
   "outputs": [],
   "source": [
    "import numpy as np\n",
    "import matplotlib.pyplot as plt"
   ]
  },
  {
   "cell_type": "code",
   "execution_count": 123,
   "id": "d68758bc",
   "metadata": {},
   "outputs": [],
   "source": [
    "#Setting up constants for the light\n",
    "incidentRayRoC = 0 #This is in per mm, for incident ray its the slope of the ray.\n",
    "lensX = 1 #height of incident ray when it hits lens 1 (from optical axis)\n",
    "\n",
    "lens1Focal = 150\n",
    "lens2Focal = 150\n",
    "lens3Focal = 205\n",
    "#This line takes the focal lengths and finds their Rate of Convergance, or slope parallel lines come out with\n",
    "RoC = [incidentRayRoC,1/lens1Focal,1/lens2Focal,1/lens3Focal]\n",
    "sumRoC = [RoC[0],RoC[0]+RoC[1], RoC[0] + RoC[1] + RoC[2], RoC[0]+RoC[1]+RoC[2]+RoC[3]]\n",
    "\n",
    "#location of lenses\n",
    "start = -20\n",
    "lens1 = 0 #mm\n",
    "lens1to2 = 10 #mm\n",
    "lens2to3 = 85 #mm\n",
    "lens3toEnd = 100\n",
    "\n",
    "#then we define regions over the span regions(0) to regions(1), regions(1) to regions(2), etc.\n",
    "d = [start,lens1, lens1+lens1to2, lens1+lens1to2+lens2to3, lens1+lens1to2+lens2to3+lens3toEnd]"
   ]
  },
  {
   "cell_type": "code",
   "execution_count": 124,
   "id": "92bd81cd",
   "metadata": {},
   "outputs": [
    {
     "name": "stdout",
     "output_type": "stream",
     "text": [
      "[-20, 0, 10, 95, 195] [1, 1, 0.9333333333333333, -0.12444444444444441, 0.1021860885275519] [0, 0.006666666666666667, 0.013333333333333334, 0.018211382113821138]\n"
     ]
    },
    {
     "data": {
      "text/plain": [
       "<matplotlib.lines.Line2D at 0x7f6017b90640>"
      ]
     },
     "execution_count": 124,
     "metadata": {},
     "output_type": "execute_result"
    },
    {
     "data": {
      "image/png": "[encoded data removed]",
      "text/plain": [
       "<Figure size 432x288 with 1 Axes>"
      ]
     },
     "metadata": {
      "needs_background": "light"
     },
     "output_type": "display_data"
    }
   ],
   "source": [
    "#\n",
    "\n",
    "\n",
    "x0 = lensX*(1-sumRoC[0]*d[0])\n",
    "x1 = lensX\n",
    "x2 = x1*(1-((d[2]-d[1])*(sumRoC[1])))\n",
    "x3 = x2*(1-((d[3]-d[2])*(sumRoC[2])))\n",
    "x4 = x3*(1-((d[4]-d[3])*(sumRoC[3])))\n",
    "x = [x0,x1,x2,x3,x4]\n",
    "\n",
    "print(d,x,sumRoC)\n",
    "plt.plot(d,x)\n",
    "plt.plot(d,[ -k for k in x])\n",
    "plt.axvline(x = d[1], color = 'k', label = 'axvline - full height')\n",
    "plt.axvline(x = d[2], color = 'k', label = 'axvline - full height')\n",
    "plt.axvline(x = d[3], color = 'k', label = 'axvline - full height')\n",
    "\n",
    "    "
   ]
  },
  {
   "cell_type": "code",
   "execution_count": null,
   "id": "81c8f6e4",
   "metadata": {},
   "outputs": [],
   "source": []
  }
 ],
 "metadata": {
  "kernelspec": {
   "display_name": "Python 3 (ipykernel)",
   "language": "python",
   "name": "python3"
  },
  "language_info": {
   "codemirror_mode": {
    "name": "ipython",
    "version": 3
   },
   "file_extension": ".py",
   "mimetype": "text/x-python",
   "name": "python",
   "nbconvert_exporter": "python",
   "pygments_lexer": "ipython3",
   "version": "3.8.10"
  }
 },
 "nbformat": 4,
 "nbformat_minor": 5
}
