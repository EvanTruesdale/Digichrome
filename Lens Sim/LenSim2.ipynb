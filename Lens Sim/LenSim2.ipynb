{
 "cells": [
  {
   "cell_type": "code",
   "execution_count": 46,
   "id": "b0106b9e",
   "metadata": {},
   "outputs": [
    {
     "ename": "ImportError",
     "evalue": "cannot import name 'imageRays' from 'lenses' (c:\\xampp\\htdocs\\Digichrome\\Lens Sim\\lenses.py)",
     "output_type": "error",
     "traceback": [
      "\u001b[1;31m---------------------------------------------------------------------------\u001b[0m",
      "\u001b[1;31mImportError\u001b[0m                               Traceback (most recent call last)",
      "Cell \u001b[1;32mIn[46], line 3\u001b[0m\n\u001b[0;32m      1\u001b[0m \u001b[39mimport\u001b[39;00m \u001b[39mnumpy\u001b[39;00m \u001b[39mas\u001b[39;00m \u001b[39mnp\u001b[39;00m\n\u001b[0;32m      2\u001b[0m \u001b[39mimport\u001b[39;00m \u001b[39mmatplotlib\u001b[39;00m\u001b[39m.\u001b[39;00m\u001b[39mpyplot\u001b[39;00m \u001b[39mas\u001b[39;00m \u001b[39mplt\u001b[39;00m\n\u001b[1;32m----> 3\u001b[0m \u001b[39mfrom\u001b[39;00m \u001b[39mlenses\u001b[39;00m \u001b[39mimport\u001b[39;00m imageRays\n\u001b[0;32m      4\u001b[0m \u001b[39mimport\u001b[39;00m \u001b[39mfibo\u001b[39;00m\n\u001b[0;32m      5\u001b[0m \u001b[39m##New, for VS code!\u001b[39;00m\n",
      "\u001b[1;31mImportError\u001b[0m: cannot import name 'imageRays' from 'lenses' (c:\\xampp\\htdocs\\Digichrome\\Lens Sim\\lenses.py)"
     ]
    }
   ],
   "source": [
    "import numpy as np\n",
    "import matplotlib.pyplot as plt\n",
    "from lenses import imageRays\n",
    "import fibo\n",
    "##New, for VS code!\n",
    "%matplotlib widget"
   ]
  },
  {
   "cell_type": "code",
   "execution_count": 45,
   "id": "e138bceb",
   "metadata": {},
   "outputs": [
    {
     "ename": "AttributeError",
     "evalue": "module 'lenses' has no attribute 'imageRays'",
     "output_type": "error",
     "traceback": [
      "\u001b[1;31m---------------------------------------------------------------------------\u001b[0m",
      "\u001b[1;31mAttributeError\u001b[0m                            Traceback (most recent call last)",
      "Cell \u001b[1;32mIn[45], line 2\u001b[0m\n\u001b[0;32m      1\u001b[0m \u001b[39m#fibo.fib(40)\u001b[39;00m\n\u001b[1;32m----> 2\u001b[0m lens\u001b[39m.\u001b[39;49mimageRays(\u001b[39m9\u001b[39m,\u001b[39m9\u001b[39m,\u001b[39m9\u001b[39m,\u001b[39m9\u001b[39m)\n",
      "\u001b[1;31mAttributeError\u001b[0m: module 'lenses' has no attribute 'imageRays'"
     ]
    }
   ],
   "source": [
    "#fibo.fib(40)\n",
    "lens.imageRays(9,9,9,9)"
   ]
  },
  {
   "cell_type": "code",
   "execution_count": 33,
   "id": "d9f3f04c",
   "metadata": {
    "scrolled": true
   },
   "outputs": [
    {
     "ename": "AttributeError",
     "evalue": "module 'fibo' has no attribute 'fib'",
     "output_type": "error",
     "traceback": [
      "\u001b[1;31m---------------------------------------------------------------------------\u001b[0m",
      "\u001b[1;31mAttributeError\u001b[0m                            Traceback (most recent call last)",
      "Cell \u001b[1;32mIn[33], line 4\u001b[0m\n\u001b[0;32m      1\u001b[0m \u001b[39m#Now we start exploring some rapid simulating, to see if I can't find a perfect solution. NBD\u001b[39;00m\n\u001b[1;32m----> 4\u001b[0m fibo\u001b[39m.\u001b[39;49mfib(\u001b[39m4\u001b[39m)\n\u001b[0;32m      5\u001b[0m Focals \u001b[39m=\u001b[39m [\u001b[39m-\u001b[39m\u001b[39m135\u001b[39m, \u001b[39m0.0000000001\u001b[39m, \u001b[39m67\u001b[39m, \u001b[39m70\u001b[39m, \u001b[39m80\u001b[39m, \u001b[39m100\u001b[39m, \u001b[39m125\u001b[39m, \u001b[39m150\u001b[39m] \u001b[39m#truncated\u001b[39;00m\n\u001b[0;32m      6\u001b[0m \u001b[39m#[-643, -570, -135, 0.0000000001, 67, 70, 73, 90, 100, 108, 115, 121, 125, 127, 130, 133, 140, 143, 150, 160, 172, 175, 245] #updated 3/26/2023\u001b[39;00m\n\u001b[0;32m      7\u001b[0m \u001b[39m#[205,-570,130,133,125,135,127,93,121,175,-135,115,108,172,140,160,245,100,90,70,67]\u001b[39;00m\n",
      "\u001b[1;31mAttributeError\u001b[0m: module 'fibo' has no attribute 'fib'"
     ]
    }
   ],
   "source": [
    "#Now we start exploring some rapid simulating, to see if I can't find a perfect solution. NBD\n",
    "\n",
    "\n",
    "\n",
    "Focals = [-135, 0.0000000001, 67, 70, 80, 100, 125, 150] #truncated\n",
    "#[-643, -570, -135, 0.0000000001, 67, 70, 73, 90, 100, 108, 115, 121, 125, 127, 130, 133, 140, 143, 150, 160, 172, 175, 245] #updated 3/26/2023\n",
    "#[205,-570,130,133,125,135,127,93,121,175,-135,115,108,172,140,160,245,100,90,70,67]\n",
    "Gap1s = [0,5,15,30,40,50,70,80,100,150,200]\n",
    "#[0,2,4,6,10,15,20,25,30,35,40,45,50,60,70,80,100,120,140,175,200]\n",
    "Gap2s = Gap1s\n",
    "\n",
    "fit = 1\n",
    "tested = 1\n",
    "\n",
    "#This goes through every combo of above perameters\n",
    "data = []\n",
    "rays = lens.imageRays(99999,1000,10,2)\n",
    "\n",
    "for focal1 in Focals:\n",
    "    for focal2 in Focals:\n",
    "        for focal3 in Focals:\n",
    "            for focal4 in Focals:\n",
    "                for gap1 in Gap1s:\n",
    "                    for gap2 in Gap2s:\n",
    "                        for gap3 in Gap1s:\n",
    "                            #set up lens system object\n",
    "                            lens1 = lens.opticalSystem([focal1, focal2, focal3,  focal4], [100, gap1, gap2, gap3, 1000])\n",
    "                            x = []\n",
    "                            y = []\n",
    "                            \n",
    "                            #pass incoming rays into lens system object\n",
    "                            for i in range(0,len(rays[:,0]),1):\n",
    "                                tracedRay = lens1.simRay(rays[i,0],rays[i,1])\n",
    "                                x.append(tracedRay[0])\n",
    "                                y.append(tracedRay[1])\n",
    "                            \n",
    "                            #find intersections of these rays\n",
    "                            images = lens.intersection(x[0],y[0],x[1],y[1])\n",
    "                            #print(images)\n",
    "                            #save settup data if we get any images at all\n",
    "                            inner = []\n",
    "                            outer = []\n",
    "                            for image in images:\n",
    "                                if image[0]<(gap1+gap2) and image[0] > gap1:\n",
    "                                    inner = image\n",
    "                                elif image[0] > (gap1+gap2):\n",
    "                                    outer = image\n",
    "                                    \n",
    "                            if inner != [] and outer != []:\n",
    "                                #find theoretical center\n",
    "                                rays2 = np.array([(1,-2),(-1,2)])\n",
    "                                x = []\n",
    "                                y = []\n",
    "                                for j in [0,1]:\n",
    "                                    tracedRay = lens1.simRay(rays2[j,0],rays2[j,1])\n",
    "                                    x.append(tracedRay[0])\n",
    "                                    y.append(tracedRay[1])\n",
    "\n",
    "                                intersect = lens.intersection(x[0],y[0],x[1],y[1])\n",
    "                                if len(intersect) > 1:\n",
    "                                    center = intersect[1,:]\n",
    "                                else:\n",
    "                                    center = np.array([0,0])\n",
    "                                #save data to array\n",
    "                                data.append([inner[0], inner[1], outer[0], outer[1], focal1, focal2, focal3, focal4, gap1, gap2, gap3, center[0], center[1]])\n",
    "                                \n",
    "                                fit += 1\n",
    "                            tested += 1\n",
    "                        \n",
    "print(\"I tested \" + str(tested) + \" lens setups and found \" + str(fit) + \" that satisfied image location requirments.\")\n",
    "name = \"compoundLensover\"\n",
    "np.save(name, data, allow_pickle=True, fix_imports=True)\n",
    "print(\"Saved Data to \" + name)\n"
   ]
  },
  {
   "cell_type": "code",
   "execution_count": null,
   "id": "8f00ce6b",
   "metadata": {},
   "outputs": [],
   "source": []
  }
 ],
 "metadata": {
  "kernelspec": {
   "display_name": "Python 3 (ipykernel)",
   "language": "python",
   "name": "python3"
  },
  "language_info": {
   "codemirror_mode": {
    "name": "ipython",
    "version": 3
   },
   "file_extension": ".py",
   "mimetype": "text/x-python",
   "name": "python",
   "nbconvert_exporter": "python",
   "pygments_lexer": "ipython3",
   "version": "3.11.2"
  }
 },
 "nbformat": 4,
 "nbformat_minor": 5
}
