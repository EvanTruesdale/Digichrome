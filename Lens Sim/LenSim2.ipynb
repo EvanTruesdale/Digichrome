{
 "cells": [
  {
   "cell_type": "code",
   "execution_count": 1,
   "id": "b0106b9e",
   "metadata": {},
   "outputs": [],
   "source": [
    "import numpy as np\n",
    "import matplotlib.pyplot as plt\n",
    "##New, for VS code!\n",
    "%matplotlib widget"
   ]
  },
  {
   "cell_type": "code",
   "execution_count": 2,
   "id": "3f9a0cbc",
   "metadata": {},
   "outputs": [],
   "source": [
    "class opticalSystem:\n",
    "    def __init__(self, focalsIn, gapsIn):\n",
    "        #floats, are what they say, in mms\n",
    "        #below we set up the above as lists\n",
    "        self.focal = focalsIn\n",
    "        self.delX = gapsIn\n",
    "        self.x = np.cumsum(self.delX)\n",
    "        ##np.append(self.x, self.x[-1] + 1000)\n",
    "        #then make a list of the Rates of Convergance of our lenses\n",
    "        self.c = [1/v for v in focalsIn]\n",
    "    \n",
    "    def simRay(self,rayC, y1):\n",
    "        \n",
    "        y0 = y1 + (rayC*self.delX[0])\n",
    "        y = [y0, y1]\n",
    "        slope = rayC\n",
    "        for i in range(0,len(self.c)-1):\n",
    "            slope = slope + self.c[i]*y[-1]\n",
    "            y.append(y[-1] - slope*self.delX[i])\n",
    "            \n",
    "        x = np.array(self.x)\n",
    "        \n",
    "        return np.array([x,y])"
   ]
  },
  {
   "cell_type": "code",
   "execution_count": 3,
   "id": "0fd0161e",
   "metadata": {},
   "outputs": [],
   "source": [
    "def intersection(x1,y1,x2,y2):\n",
    "    #this takes the ray data I'm building up and returns any intersections between the two rays.\n",
    "    #all inputs are lists of points that are connected by lines\n",
    "    #IT IS ASSUMED ALL INPUT LISTS ARE OF SAME LENGTH, x1 = x2\n",
    "    \n",
    "    intersects = []\n",
    "    #find intersections in the between lens regime\n",
    "    for i in range(1,len(x1),1):\n",
    "        denom = y1[i-1]-y1[i]-y2[i-1]+y2[i]\n",
    "        \n",
    "        if denom != 0:\n",
    "            intX = (y1[i-1]-y2[i-1]) * (x1[i]-x1[i-1]) / denom\n",
    "            intX += x1[i-1]\n",
    "            intY = y2[i-1] + (intX-x2[i-1]) * (y2[i]-y2[i-1])/(x2[i]-x2[i-1])\n",
    "            if intX <= x1[i] and intX >= x1[i-1]:\n",
    "                intersects.append([intX, intY])\n",
    "                \n",
    "    \n",
    "    #find any after lens intersections\n",
    "    \n",
    "    \n",
    "    return np.array(intersects)"
   ]
  },
  {
   "cell_type": "code",
   "execution_count": 4,
   "id": "6aeca767",
   "metadata": {},
   "outputs": [],
   "source": [
    "def imageRays(distance,yIn,lensRadius,numRays):\n",
    "    #This function generates a list of indident rays defined by an objects location.\n",
    "    #all in are floats except numRays, which is an int\n",
    "    #outputs a numpy array of the rays slopes and x hit on a lens\n",
    "    rays = []\n",
    "    \n",
    "    for i in np.linspace(-lensRadius,lensRadius,num=numRays):\n",
    "        c = (yIn-i)/distance\n",
    "        y = i\n",
    "        rays.append(np.array([c,y]))\n",
    "    \n",
    "    \n",
    "    return np.array(rays)"
   ]
  },
  {
   "cell_type": "code",
   "execution_count": 5,
   "id": "d9f3f04c",
   "metadata": {
    "scrolled": true
   },
   "outputs": [
    {
     "name": "stderr",
     "output_type": "stream",
     "text": [
      "C:\\Users\\Levi Rhoden\\AppData\\Local\\Temp\\ipykernel_6216\\1421255217.py:14: RuntimeWarning: invalid value encountered in scalar divide\n",
      "  intY = y2[i-1] + (intX-x2[i-1]) * (y2[i]-y2[i-1])/(x2[i]-x2[i-1])\n",
      "C:\\Users\\Levi Rhoden\\AppData\\Local\\Temp\\ipykernel_6216\\4235005299.py:47: DeprecationWarning: elementwise comparison failed; this will raise an error in the future.\n",
      "  if inner != [] and outer != []:\n"
     ]
    },
    {
     "name": "stdout",
     "output_type": "stream",
     "text": [
      "I tested 5451777 lens setups and found 173537 that satisfied image location requirments.\n",
      "Saved Data to compoundLensTest\n"
     ]
    }
   ],
   "source": [
    "#Now we start exploring some rapid simulating, to see if I can't find a perfect solution. NBD\n",
    "\n",
    "Focals = [-135, 0.0000000001, 67, 70, 80, 100, 125, 150] #truncated\n",
    "#[-643, -570, -135, 0.0000000001, 67, 70, 73, 90, 100, 108, 115, 121, 125, 127, 130, 133, 140, 143, 150, 160, 172, 175, 245] #updated 3/26/2023\n",
    "#[205,-570,130,133,125,135,127,93,121,175,-135,115,108,172,140,160,245,100,90,70,67]\n",
    "Gap1s = [0,5,15,30,40,50,70,80,100,150,200]\n",
    "#[0,2,4,6,10,15,20,25,30,35,40,45,50,60,70,80,100,120,140,175,200]\n",
    "Gap2s = Gap1s\n",
    "\n",
    "fit = 1\n",
    "tested = 1\n",
    "\n",
    "#This goes through every combo of above perameters\n",
    "data = []\n",
    "rays = imageRays(99999,1000,10,2)\n",
    "\n",
    "for focal1 in Focals:\n",
    "    for focal2 in Focals:\n",
    "        for focal3 in Focals:\n",
    "            for focal4 in Focals:\n",
    "                for gap1 in Gap1s:\n",
    "                    for gap2 in Gap2s:\n",
    "                        for gap3 in Gap1s:\n",
    "                            #set up lens system object\n",
    "                            lens1 = opticalSystem([focal1, focal2, focal3,  focal4], [100, gap1, gap2, gap3, 1000])\n",
    "                            x = []\n",
    "                            y = []\n",
    "                            \n",
    "                            #pass incoming rays into lens system object\n",
    "                            for i in range(0,len(rays[:,0]),1):\n",
    "                                tracedRay = lens1.simRay(rays[i,0],rays[i,1])\n",
    "                                x.append(tracedRay[0])\n",
    "                                y.append(tracedRay[1])\n",
    "                            \n",
    "                            #find intersections of these rays\n",
    "                            images = intersection(x[0],y[0],x[1],y[1])\n",
    "                            #print(images)\n",
    "                            #save settup data if we get any images at all\n",
    "                            inner = []\n",
    "                            outer = []\n",
    "                            for image in images:\n",
    "                                if image[0]<(gap1+gap2) and image[0] > gap1:\n",
    "                                    inner = image\n",
    "                                elif image[0] > (gap1+gap2):\n",
    "                                    outer = image\n",
    "                                    \n",
    "                            if inner != [] and outer != []:\n",
    "                                #find theoretical center\n",
    "                                rays2 = np.array([(1,-2),(-1,2)])\n",
    "                                x = []\n",
    "                                y = []\n",
    "                                for j in [0,1]:\n",
    "                                    tracedRay = lens1.simRay(rays2[j,0],rays2[j,1])\n",
    "                                    x.append(tracedRay[0])\n",
    "                                    y.append(tracedRay[1])\n",
    "\n",
    "                                intersect = intersection(x[0],y[0],x[1],y[1])\n",
    "                                if len(intersect) > 1:\n",
    "                                    center = intersect[1,:]\n",
    "                                else:\n",
    "                                    center = np.array([0,0])\n",
    "                                #save data to array\n",
    "                                data.append([inner[0], inner[1], outer[0], outer[1], focal1, focal2, focal3, focal4, gap1, gap2, gap3, center[0], center[1]])\n",
    "                                \n",
    "                                fit += 1\n",
    "                            tested += 1\n",
    "                        \n",
    "print(\"I tested \" + str(tested) + \" lens setups and found \" + str(fit) + \" that satisfied image location requirments.\")\n",
    "name = \"compoundLensTest\"\n",
    "np.save(name, data, allow_pickle=True, fix_imports=True)\n",
    "print(\"Saved Data to \" + name)\n"
   ]
  },
  {
   "cell_type": "code",
   "execution_count": null,
   "id": "8f00ce6b",
   "metadata": {},
   "outputs": [],
   "source": []
  }
 ],
 "metadata": {
  "kernelspec": {
   "display_name": "Python 3 (ipykernel)",
   "language": "python",
   "name": "python3"
  },
  "language_info": {
   "codemirror_mode": {
    "name": "ipython",
    "version": 3
   },
   "file_extension": ".py",
   "mimetype": "text/x-python",
   "name": "python",
   "nbconvert_exporter": "python",
   "pygments_lexer": "ipython3",
   "version": "3.11.2"
  }
 },
 "nbformat": 4,
 "nbformat_minor": 5
}
