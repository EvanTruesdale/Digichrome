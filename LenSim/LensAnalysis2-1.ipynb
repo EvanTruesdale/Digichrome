{
 "cells": [
  {
   "cell_type": "code",
   "execution_count": 4,
   "id": "9c5b3679",
   "metadata": {},
   "outputs": [],
   "source": [
    "import numpy as np\n",
    "import matplotlib.pyplot as plt\n",
    "import lenses as ln\n",
    "\n",
    "%matplotlib widget\n",
    "\n",
    "#Keep this as long as lenses.py is being edited TODO delete once done\n",
    "from importlib import reload  # Python 3.4+\n",
    "ln = reload(ln)"
   ]
  },
  {
   "cell_type": "code",
   "execution_count": 2,
   "id": "6e791516",
   "metadata": {},
   "outputs": [
    {
     "name": "stdout",
     "output_type": "stream",
     "text": [
      "40085813\n"
     ]
    }
   ],
   "source": [
    "#Loading in 4 part lens data\n",
    "\n",
    "data = np.zeros((1,11))\n",
    "data = np.array(data)\n",
    "\n",
    "for i in [1,2,3,4,5,6,7,8,9,10,11,12,13,14,15,16,17]:\n",
    "     name = \"4PartLensData/4PartLens1-\" + str(i) + \".npy\"\n",
    "     newData = np.array(np.load(name))\n",
    "     data = np.concatenate((data,newData), axis=0)\n",
    "     \n",
    "\n",
    "print(len(data))"
   ]
  },
  {
   "cell_type": "code",
   "execution_count": 5,
   "id": "e6e6f817",
   "metadata": {
    "scrolled": false
   },
   "outputs": [
    {
     "name": "stdout",
     "output_type": "stream",
     "text": [
      "The list is 40085813 long\n",
      "The list is now 40085813 Lens systems long\n"
     ]
    },
    {
     "ename": "AttributeError",
     "evalue": "module 'lenses' has no attribute 'plotLensesColor'",
     "output_type": "error",
     "traceback": [
      "\u001b[1;31m---------------------------------------------------------------------------\u001b[0m",
      "\u001b[1;31mAttributeError\u001b[0m                            Traceback (most recent call last)",
      "Cell \u001b[1;32mIn[5], line 11\u001b[0m\n\u001b[0;32m      5\u001b[0m \u001b[39m#data = [data[x,:] for x in list(range(0, len(data))) if data[x,2]<1000]\u001b[39;00m\n\u001b[0;32m      6\u001b[0m \u001b[39m#data = np.array(data)\u001b[39;00m\n\u001b[0;32m      7\u001b[0m \u001b[39m#data = [data[x,:] for x in list(range(0, len(data))) if abs(data[x,1]/data[x,3])<100]\u001b[39;00m\n\u001b[0;32m      8\u001b[0m \u001b[39m#data = np.array(data)\u001b[39;00m\n\u001b[0;32m      9\u001b[0m \u001b[39mprint\u001b[39m(\u001b[39m\"\u001b[39m\u001b[39mThe list is now \u001b[39m\u001b[39m\"\u001b[39m \u001b[39m+\u001b[39m \u001b[39mstr\u001b[39m(\u001b[39mlen\u001b[39m(data)) \u001b[39m+\u001b[39m \u001b[39m\"\u001b[39m\u001b[39m Lens systems long\u001b[39m\u001b[39m\"\u001b[39m)\n\u001b[1;32m---> 11\u001b[0m ln\u001b[39m.\u001b[39;49mplotLensesColor(data[:,\u001b[39m3\u001b[39m], data[:,\u001b[39m1\u001b[39m]\u001b[39m/\u001b[39mdata[:,\u001b[39m3\u001b[39m], data[:,\u001b[39m2\u001b[39m], \u001b[39m'\u001b[39m\u001b[39mFilm Image Height vs Filter Magnification vs Length of Lens\u001b[39m\u001b[39m'\u001b[39m, \u001b[39m\"\u001b[39m\u001b[39mFilm Image Height\u001b[39m\u001b[39m\"\u001b[39m,\u001b[39m\"\u001b[39m\u001b[39mFilter Magnification\u001b[39m\u001b[39m\"\u001b[39m,\u001b[39m\"\u001b[39m\u001b[39mLength of Lens\u001b[39m\u001b[39m\"\u001b[39m)\n",
      "\u001b[1;31mAttributeError\u001b[0m: module 'lenses' has no attribute 'plotLensesColor'"
     ]
    }
   ],
   "source": [
    "# params ordered inner image x, \" y, outer image x, \" y, focal length 1, 2, 3, gap1, gap2, optical center x, \"y\n",
    "print(\"The list is \" + str(len(data)) + \" long\")\n",
    "\n",
    "np.array(data)\n",
    "#data = [data[x,:] for x in list(range(0, len(data))) if data[x,2]<1000]\n",
    "#data = np.array(data)\n",
    "#data = [data[x,:] for x in list(range(0, len(data))) if abs(data[x,1]/data[x,3])<100]\n",
    "#data = np.array(data)\n",
    "print(\"The list is now \" + str(len(data)) + \" Lens systems long\")\n",
    "\n",
    "ln.plotLensesColor(data[:,3], data[:,1]/data[:,3], data[:,2], 'Film Image Height vs Filter Magnification vs Length of Lens', \"Film Image Height\",\"Filter Magnification\",\"Length of Lens\")\n"
   ]
  },
  {
   "cell_type": "code",
   "execution_count": null,
   "id": "0e37d722",
   "metadata": {},
   "outputs": [],
   "source": []
  },
  {
   "cell_type": "code",
   "execution_count": null,
   "id": "8d45cc43",
   "metadata": {},
   "outputs": [],
   "source": []
  }
 ],
 "metadata": {
  "kernelspec": {
   "display_name": "Python 3",
   "language": "python",
   "name": "python3"
  },
  "language_info": {
   "codemirror_mode": {
    "name": "ipython",
    "version": 3
   },
   "file_extension": ".py",
   "mimetype": "text/x-python",
   "name": "python",
   "nbconvert_exporter": "python",
   "pygments_lexer": "ipython3",
   "version": "3.11.2"
  },
  "vscode": {
   "interpreter": {
    "hash": "5914412a4a67f9c51a0680a9634a994946a70c41a5233918af16992736a4a7a5"
   }
  }
 },
 "nbformat": 4,
 "nbformat_minor": 5
}
