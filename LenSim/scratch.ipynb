{
 "cells": [
  {
   "cell_type": "code",
   "execution_count": 8,
   "metadata": {},
   "outputs": [],
   "source": [
    "import numpy as np\n",
    "import matplotlib.pyplot as plt\n",
    "import lenses as ln\n",
    "#New, for VS code!\n",
    "%matplotlib widget"
   ]
  },
  {
   "cell_type": "code",
   "execution_count": 9,
   "metadata": {},
   "outputs": [
    {
     "ename": "ValueError",
     "evalue": "setting an array element with a sequence. The requested array has an inhomogeneous shape after 1 dimensions. The detected shape was (2,) + inhomogeneous part.",
     "output_type": "error",
     "traceback": [
      "\u001b[1;31m---------------------------------------------------------------------------\u001b[0m",
      "\u001b[1;31mValueError\u001b[0m                                Traceback (most recent call last)",
      "Cell \u001b[1;32mIn[9], line 1\u001b[0m\n\u001b[1;32m----> 1\u001b[0m ln\u001b[39m.\u001b[39;49mrayTracePlot(ln\u001b[39m.\u001b[39;49mopticalSystem([\u001b[39m6\u001b[39;49m,\u001b[39m200\u001b[39;49m,\u001b[39m20\u001b[39;49m,\u001b[39m.0001\u001b[39;49m], [\u001b[39m10\u001b[39;49m, \u001b[39m100\u001b[39;49m, \u001b[39m200\u001b[39;49m, \u001b[39m300\u001b[39;49m, \u001b[39m100\u001b[39;49m,\u001b[39m100\u001b[39;49m]))\n",
      "File \u001b[1;32mc:\\xampp\\htdocs\\Digichrome\\LenSim\\lenses.py:104\u001b[0m, in \u001b[0;36mrayTracePlot\u001b[1;34m(lens, rays)\u001b[0m\n\u001b[0;32m    102\u001b[0m \u001b[39m#calculate y values\u001b[39;00m\n\u001b[0;32m    103\u001b[0m \u001b[39mfor\u001b[39;00m i \u001b[39min\u001b[39;00m \u001b[39mrange\u001b[39m(\u001b[39m0\u001b[39m,\u001b[39mlen\u001b[39m(rays[:,\u001b[39m0\u001b[39m]),\u001b[39m1\u001b[39m):\n\u001b[1;32m--> 104\u001b[0m     tracedRay \u001b[39m=\u001b[39m lens\u001b[39m.\u001b[39;49msimRay(rays[i,\u001b[39m0\u001b[39;49m],rays[i,\u001b[39m1\u001b[39;49m])\n\u001b[0;32m    105\u001b[0m     X\u001b[39m.\u001b[39mappend(tracedRay[\u001b[39m0\u001b[39m])\n\u001b[0;32m    106\u001b[0m     y\u001b[39m.\u001b[39mappend(tracedRay[\u001b[39m1\u001b[39m])\n",
      "File \u001b[1;32mc:\\xampp\\htdocs\\Digichrome\\LenSim\\lenses.py:41\u001b[0m, in \u001b[0;36mopticalSystem.simRay\u001b[1;34m(self, rayC, y1)\u001b[0m\n\u001b[0;32m     37\u001b[0m     y\u001b[39m.\u001b[39mappend(y[\u001b[39m-\u001b[39m\u001b[39m1\u001b[39m] \u001b[39m-\u001b[39m slope\u001b[39m*\u001b[39m\u001b[39mself\u001b[39m\u001b[39m.\u001b[39mdelX[i])\n\u001b[0;32m     39\u001b[0m x \u001b[39m=\u001b[39m np\u001b[39m.\u001b[39marray(\u001b[39mself\u001b[39m\u001b[39m.\u001b[39mx)\n\u001b[1;32m---> 41\u001b[0m \u001b[39mreturn\u001b[39;00m np\u001b[39m.\u001b[39marray([x,y])\n",
      "\u001b[1;31mValueError\u001b[0m: setting an array element with a sequence. The requested array has an inhomogeneous shape after 1 dimensions. The detected shape was (2,) + inhomogeneous part."
     ]
    }
   ],
   "source": [
    "\n",
    "ln.rayTracePlot(ln.opticalSystem([6,200,20,.0001], [10, 100, 200, 300, 100,100]))"
   ]
  }
 ],
 "metadata": {
  "kernelspec": {
   "display_name": "Python 3",
   "language": "python",
   "name": "python3"
  },
  "language_info": {
   "codemirror_mode": {
    "name": "ipython",
    "version": 3
   },
   "file_extension": ".py",
   "mimetype": "text/x-python",
   "name": "python",
   "nbconvert_exporter": "python",
   "pygments_lexer": "ipython3",
   "version": "3.11.2"
  },
  "orig_nbformat": 4
 },
 "nbformat": 4,
 "nbformat_minor": 2
}
